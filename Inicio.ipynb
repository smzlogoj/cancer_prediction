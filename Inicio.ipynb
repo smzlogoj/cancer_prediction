{
 "cells": [
  {
   "cell_type": "markdown",
   "id": "49677c8e-b630-4c1c-b12a-57e778831a8c",
   "metadata": {},
   "source": [
    "# Cancer Prediction Dataset\n",
    "\n",
    "### Features\n",
    "- **Age**: Integer values representing the patient's age, ranging from 20 to 80.\n",
    "- **Gender**: Binary values representing gender, where 0 indicates Male and 1 indicates Female.\n",
    "- **BMI**: Continuous values representing Body Mass Index, ranging from 15 to 40.\n",
    "- **Smoking**: Binary values indicating smoking status, where 0 means No and 1 means Yes.\n",
    "- **GeneticRisk**: Categorical values representing genetic risk levels for cancer, with 0 indicating Low, 1 indicating Medium, and 2 indicating High.\n",
    "- **PhysicalActivity**: Continuous values representing the number of hours per week spent on physical activities, ranging from 0 to 10.\n",
    "- **AlcoholIntake**: Continuous values representing the number of alcohol units consumed per week, ranging from 0 to 5.\n",
    "- **CancerHistory**: Binary values indicating whether the patient has a personal history of cancer, where 0 means No and 1 means Yes.\n",
    "- **Diagnosis**: Binary values indicating the cancer diagnosis status, where 0 indicates No Cancer and 1 indicates Cancer.\n"
   ]
  },
  {
   "cell_type": "code",
   "execution_count": 1,
   "id": "16aca837-20ab-42d1-a76d-fb22c8bbd870",
   "metadata": {},
   "outputs": [
    {
     "data": {
      "text/html": [
       "<table class=\"dataframe\">\n",
       "<caption>A data.frame: 6 × 9</caption>\n",
       "<thead>\n",
       "\t<tr><th></th><th scope=col>Age</th><th scope=col>Gender</th><th scope=col>BMI</th><th scope=col>Smoking</th><th scope=col>GeneticRisk</th><th scope=col>PhysicalActivity</th><th scope=col>AlcoholIntake</th><th scope=col>CancerHistory</th><th scope=col>Diagnosis</th></tr>\n",
       "\t<tr><th></th><th scope=col>&lt;int&gt;</th><th scope=col>&lt;int&gt;</th><th scope=col>&lt;dbl&gt;</th><th scope=col>&lt;int&gt;</th><th scope=col>&lt;int&gt;</th><th scope=col>&lt;dbl&gt;</th><th scope=col>&lt;dbl&gt;</th><th scope=col>&lt;int&gt;</th><th scope=col>&lt;int&gt;</th></tr>\n",
       "</thead>\n",
       "<tbody>\n",
       "\t<tr><th scope=row>1</th><td>58</td><td>1</td><td>16.08531</td><td>0</td><td>1</td><td>8.146251</td><td>4.148219</td><td>1</td><td>1</td></tr>\n",
       "\t<tr><th scope=row>2</th><td>71</td><td>0</td><td>30.82878</td><td>0</td><td>1</td><td>9.361630</td><td>3.519683</td><td>0</td><td>0</td></tr>\n",
       "\t<tr><th scope=row>3</th><td>48</td><td>1</td><td>38.78508</td><td>0</td><td>2</td><td>5.135179</td><td>4.728368</td><td>0</td><td>1</td></tr>\n",
       "\t<tr><th scope=row>4</th><td>34</td><td>0</td><td>30.04030</td><td>0</td><td>0</td><td>9.502792</td><td>2.044636</td><td>0</td><td>0</td></tr>\n",
       "\t<tr><th scope=row>5</th><td>62</td><td>1</td><td>35.47972</td><td>0</td><td>0</td><td>5.356890</td><td>3.309849</td><td>0</td><td>1</td></tr>\n",
       "\t<tr><th scope=row>6</th><td>27</td><td>0</td><td>37.10516</td><td>0</td><td>1</td><td>3.941905</td><td>2.324274</td><td>0</td><td>0</td></tr>\n",
       "</tbody>\n",
       "</table>\n"
      ],
      "text/latex": [
       "A data.frame: 6 × 9\n",
       "\\begin{tabular}{r|lllllllll}\n",
       "  & Age & Gender & BMI & Smoking & GeneticRisk & PhysicalActivity & AlcoholIntake & CancerHistory & Diagnosis\\\\\n",
       "  & <int> & <int> & <dbl> & <int> & <int> & <dbl> & <dbl> & <int> & <int>\\\\\n",
       "\\hline\n",
       "\t1 & 58 & 1 & 16.08531 & 0 & 1 & 8.146251 & 4.148219 & 1 & 1\\\\\n",
       "\t2 & 71 & 0 & 30.82878 & 0 & 1 & 9.361630 & 3.519683 & 0 & 0\\\\\n",
       "\t3 & 48 & 1 & 38.78508 & 0 & 2 & 5.135179 & 4.728368 & 0 & 1\\\\\n",
       "\t4 & 34 & 0 & 30.04030 & 0 & 0 & 9.502792 & 2.044636 & 0 & 0\\\\\n",
       "\t5 & 62 & 1 & 35.47972 & 0 & 0 & 5.356890 & 3.309849 & 0 & 1\\\\\n",
       "\t6 & 27 & 0 & 37.10516 & 0 & 1 & 3.941905 & 2.324274 & 0 & 0\\\\\n",
       "\\end{tabular}\n"
      ],
      "text/markdown": [
       "\n",
       "A data.frame: 6 × 9\n",
       "\n",
       "| <!--/--> | Age &lt;int&gt; | Gender &lt;int&gt; | BMI &lt;dbl&gt; | Smoking &lt;int&gt; | GeneticRisk &lt;int&gt; | PhysicalActivity &lt;dbl&gt; | AlcoholIntake &lt;dbl&gt; | CancerHistory &lt;int&gt; | Diagnosis &lt;int&gt; |\n",
       "|---|---|---|---|---|---|---|---|---|---|\n",
       "| 1 | 58 | 1 | 16.08531 | 0 | 1 | 8.146251 | 4.148219 | 1 | 1 |\n",
       "| 2 | 71 | 0 | 30.82878 | 0 | 1 | 9.361630 | 3.519683 | 0 | 0 |\n",
       "| 3 | 48 | 1 | 38.78508 | 0 | 2 | 5.135179 | 4.728368 | 0 | 1 |\n",
       "| 4 | 34 | 0 | 30.04030 | 0 | 0 | 9.502792 | 2.044636 | 0 | 0 |\n",
       "| 5 | 62 | 1 | 35.47972 | 0 | 0 | 5.356890 | 3.309849 | 0 | 1 |\n",
       "| 6 | 27 | 0 | 37.10516 | 0 | 1 | 3.941905 | 2.324274 | 0 | 0 |\n",
       "\n"
      ],
      "text/plain": [
       "  Age Gender BMI      Smoking GeneticRisk PhysicalActivity AlcoholIntake\n",
       "1 58  1      16.08531 0       1           8.146251         4.148219     \n",
       "2 71  0      30.82878 0       1           9.361630         3.519683     \n",
       "3 48  1      38.78508 0       2           5.135179         4.728368     \n",
       "4 34  0      30.04030 0       0           9.502792         2.044636     \n",
       "5 62  1      35.47972 0       0           5.356890         3.309849     \n",
       "6 27  0      37.10516 0       1           3.941905         2.324274     \n",
       "  CancerHistory Diagnosis\n",
       "1 1             1        \n",
       "2 0             0        \n",
       "3 0             1        \n",
       "4 0             0        \n",
       "5 0             1        \n",
       "6 0             0        "
      ]
     },
     "metadata": {},
     "output_type": "display_data"
    }
   ],
   "source": [
    "df <- read.csv('data/The_Cancer_data_1500_V2.csv')\n",
    "head(df)"
   ]
  },
  {
   "cell_type": "code",
   "execution_count": null,
   "id": "7d067ff8-0264-4ba5-af52-8d190348ecbc",
   "metadata": {},
   "outputs": [],
   "source": []
  }
 ],
 "metadata": {
  "kernelspec": {
   "display_name": "R",
   "language": "R",
   "name": "ir"
  },
  "language_info": {
   "codemirror_mode": "r",
   "file_extension": ".r",
   "mimetype": "text/x-r-source",
   "name": "R",
   "pygments_lexer": "r",
   "version": "4.4.0"
  }
 },
 "nbformat": 4,
 "nbformat_minor": 5
}
